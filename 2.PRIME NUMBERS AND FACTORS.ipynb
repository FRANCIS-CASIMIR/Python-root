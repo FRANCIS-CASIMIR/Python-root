{
 "cells": [
  {
   "cell_type": "code",
   "execution_count": null,
   "metadata": {},
   "outputs": [],
   "source": [
    "#Printing all prime numbrs from 1 to N\n",
    "import math\n",
    "count=0\n",
    "n=int(input(\"Enter any positive number which is greater than 1\"))\n",
    "while n<1:\n",
    "    n=int(input(\"Enter any positive number which is greater than 1\"))\n",
    "for y in range(2,n+1):\n",
    "    for x in range(2,int(math.sqrt(y)+1)):\n",
    "        if y%x==0:\n",
    "            count=1\n",
    "            break\n",
    "    if count==0:\n",
    "        print(f\"{y} is a prime\")\n",
    "    count=0"
   ]
  },
  {
   "cell_type": "code",
   "execution_count": null,
   "metadata": {},
   "outputs": [],
   "source": [
    "#Printing first N prime numebrs from 2 \n",
    "import math\n",
    "n=int(input(\"Enter the number of prime numbers to be printed:\"))\n",
    "prime_count=0\n",
    "number=2\n",
    "while prime_count<n:\n",
    "    for x in range(2,int(math.sqrt(number)+1)):\n",
    "        if number%x==0:\n",
    "            count=1\n",
    "            break\n",
    "    if count==0:\n",
    "        prime_count+=1\n",
    "        print(f\"{number}\")\n",
    "    count=0\n",
    "    number+=1\n"
   ]
  },
  {
   "cell_type": "code",
   "execution_count": null,
   "metadata": {},
   "outputs": [],
   "source": [
    "#Number of Prime numbers less than or equal to N\n",
    "import math\n",
    "prime_count=0\n",
    "N=int(input(\"Enter N:\"))\n",
    "for x in range(2,N+1):\n",
    "    count=0\n",
    "    for y in range(2,int(math.sqrt(x)+1)):\n",
    "        if x%y==0:\n",
    "            count=1\n",
    "            break\n",
    "    if count==0:\n",
    "        prime_count+=1\n",
    "print(f\"Ther are {prime_count} prime numbers between 2 and {N}\")"
   ]
  },
  {
   "cell_type": "code",
   "execution_count": 15,
   "metadata": {
    "collapsed": true
   },
   "outputs": [
    {
     "name": "stdout",
     "output_type": "stream",
     "text": [
      "** m,n>1 **\n",
      "Enter n:1\n",
      "Enter m:3\n",
      "InputError, Enter the numbers as per the conditions\n",
      "Enter n:4\n",
      "Enter m:90\n",
      "5 is a prime \n",
      "7 is a prime \n",
      "11 is a prime \n",
      "13 is a prime \n",
      "17 is a prime \n",
      "19 is a prime \n",
      "23 is a prime \n",
      "29 is a prime \n",
      "31 is a prime \n",
      "37 is a prime \n",
      "41 is a prime \n",
      "43 is a prime \n",
      "47 is a prime \n",
      "53 is a prime \n",
      "59 is a prime \n",
      "61 is a prime \n",
      "67 is a prime \n",
      "71 is a prime \n",
      "73 is a prime \n",
      "79 is a prime \n",
      "83 is a prime \n",
      "89 is a prime \n"
     ]
    }
   ],
   "source": [
    "#PRIME NUMBERS BETWEEN M AND N\n",
    "import math\n",
    "print(\"** m,n>1 **\")\n",
    "n=int(input(\"Enter n:\"))\n",
    "m=int(input(\"Enter m:\"))\n",
    "while m<2 or 2>n :\n",
    "    print(\"InputError, Enter the numbers as per the conditions\")\n",
    "    n=int(input(\"Enter n:\"))\n",
    "    m=int(input(\"Enter m:\"))\n",
    "if m<n:\n",
    "    temp=m;m=n;n=temp\n",
    "for x in range(n,m+1):\n",
    "    count=0\n",
    "    for y in range(2,int(math.sqrt(x)+1)):\n",
    "        if x%y==0:\n",
    "            count=1\n",
    "            break\n",
    "    if count==0:\n",
    "        print(f\"{x} is a prime \")\n",
    "    "
   ]
  },
  {
   "cell_type": "code",
   "execution_count": 5,
   "metadata": {},
   "outputs": [],
   "source": []
  },
  {
   "cell_type": "code",
   "execution_count": 25,
   "metadata": {
    "collapsed": true
   },
   "outputs": [
    {
     "name": "stdout",
     "output_type": "stream",
     "text": [
      "Enter N:100\n",
      "2\n",
      "5\n"
     ]
    }
   ],
   "source": [
    "#Printing all prime factors of N\n",
    "import math\n",
    "#Definition of a function\n",
    "def IsPrime(z):\n",
    "    count=0\n",
    "    for x in range(2,int(math.sqrt(z)+1)):\n",
    "        if z%x==0:\n",
    "            count=1\n",
    "            break\n",
    "    if count==0:\n",
    "        return True\n",
    "#Driver code\n",
    "N=int(input(\"Enter N:\"))\n",
    "for x in range(2,N+1):\n",
    "    if N%x==0:\n",
    "        if IsPrime(x)==True:\n",
    "            print(f\"{x}\")"
   ]
  }
 ],
 "metadata": {
  "kernelspec": {
   "display_name": "Python 3",
   "language": "python",
   "name": "python3"
  },
  "language_info": {
   "codemirror_mode": {
    "name": "ipython",
    "version": 3
   },
   "file_extension": ".py",
   "mimetype": "text/x-python",
   "name": "python",
   "nbconvert_exporter": "python",
   "pygments_lexer": "ipython3",
   "version": "3.7.0"
  }
 },
 "nbformat": 4,
 "nbformat_minor": 2
}
